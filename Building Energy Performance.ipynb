{
 "cells": [
  {
   "cell_type": "markdown",
   "metadata": {},
   "source": [
    "Building Energy Performance\n",
    "\n",
    "This Jupyter notebook was made in order to test out different machine learning techniques on an interesting data set. I first ran into this dataset on UC Irvine's machine learning repository.  The dataset was created by Angeliki Xifara and was processed by Athanasios Tsanas.\n",
    "\n",
    "Quick Overview of the data:\n",
    "\n",
    "The goal is to perform a regression analysis to predict the energy efficiency of different building types from labeled data.  For the inputs, 12 different building shapes were generated using the application Ecotect.  Then using the application NODEM, simulations were performed to predict the heating and cooling load for each building shape, while also varying three other parameters: orientation, glazing area, and glazing area distribution (the latter two variables describe the enclosure's transparence, provided by windows).  The raw data provided consists of the input data for these simulations, along with their outputs.  However, instead of specifying the exact building shape, five features associated to building shape are given.  They are relative compactness, surface area, wall area, roof area, and overall height.  The purpose of this project is to train a machine learning model which can predict the heating and cooling load for a building type solely based on the eight input features (and not relying on expensive simulations).\n",
    "\n",
    "The analysis carried out below follows chapter two of Aurélien Géron's Hands-On Machine Learning with Scikit-Learn and TensorFlow.\n",
    "\n",
    "## Get the Data\n",
    "\n",
    "We will begin by loading the data into a pandas dataframe."
   ]
  },
  {
   "cell_type": "code",
   "execution_count": 1,
   "metadata": {
    "collapsed": false
   },
   "outputs": [
    {
     "data": {
      "text/html": [
       "<div>\n",
       "<style>\n",
       "    .dataframe thead tr:only-child th {\n",
       "        text-align: right;\n",
       "    }\n",
       "\n",
       "    .dataframe thead th {\n",
       "        text-align: left;\n",
       "    }\n",
       "\n",
       "    .dataframe tbody tr th {\n",
       "        vertical-align: top;\n",
       "    }\n",
       "</style>\n",
       "<table border=\"1\" class=\"dataframe\">\n",
       "  <thead>\n",
       "    <tr style=\"text-align: right;\">\n",
       "      <th></th>\n",
       "      <th>Relative Compactness</th>\n",
       "      <th>Surface Area</th>\n",
       "      <th>Wall Area</th>\n",
       "      <th>Roof Area</th>\n",
       "      <th>Overall Height</th>\n",
       "      <th>Orientation</th>\n",
       "      <th>Glazing Area</th>\n",
       "      <th>Glazing Area Distribution</th>\n",
       "      <th>Heating Load</th>\n",
       "      <th>Cooling Load</th>\n",
       "    </tr>\n",
       "  </thead>\n",
       "  <tbody>\n",
       "    <tr>\n",
       "      <th>0</th>\n",
       "      <td>0.980</td>\n",
       "      <td>514.500</td>\n",
       "      <td>294.000</td>\n",
       "      <td>110.250</td>\n",
       "      <td>7.000</td>\n",
       "      <td>north</td>\n",
       "      <td>0.000</td>\n",
       "      <td>none</td>\n",
       "      <td>15.550</td>\n",
       "      <td>21.330</td>\n",
       "    </tr>\n",
       "    <tr>\n",
       "      <th>1</th>\n",
       "      <td>0.980</td>\n",
       "      <td>514.500</td>\n",
       "      <td>294.000</td>\n",
       "      <td>110.250</td>\n",
       "      <td>7.000</td>\n",
       "      <td>east</td>\n",
       "      <td>0.000</td>\n",
       "      <td>none</td>\n",
       "      <td>15.550</td>\n",
       "      <td>21.330</td>\n",
       "    </tr>\n",
       "    <tr>\n",
       "      <th>2</th>\n",
       "      <td>0.980</td>\n",
       "      <td>514.500</td>\n",
       "      <td>294.000</td>\n",
       "      <td>110.250</td>\n",
       "      <td>7.000</td>\n",
       "      <td>south</td>\n",
       "      <td>0.000</td>\n",
       "      <td>none</td>\n",
       "      <td>15.550</td>\n",
       "      <td>21.330</td>\n",
       "    </tr>\n",
       "    <tr>\n",
       "      <th>3</th>\n",
       "      <td>0.980</td>\n",
       "      <td>514.500</td>\n",
       "      <td>294.000</td>\n",
       "      <td>110.250</td>\n",
       "      <td>7.000</td>\n",
       "      <td>west</td>\n",
       "      <td>0.000</td>\n",
       "      <td>none</td>\n",
       "      <td>15.550</td>\n",
       "      <td>21.330</td>\n",
       "    </tr>\n",
       "    <tr>\n",
       "      <th>4</th>\n",
       "      <td>0.900</td>\n",
       "      <td>563.500</td>\n",
       "      <td>318.500</td>\n",
       "      <td>122.500</td>\n",
       "      <td>7.000</td>\n",
       "      <td>north</td>\n",
       "      <td>0.000</td>\n",
       "      <td>none</td>\n",
       "      <td>20.840</td>\n",
       "      <td>28.280</td>\n",
       "    </tr>\n",
       "  </tbody>\n",
       "</table>\n",
       "</div>"
      ],
      "text/plain": [
       "   Relative Compactness  Surface Area  Wall Area  Roof Area  Overall Height  \\\n",
       "0                 0.980       514.500    294.000    110.250           7.000   \n",
       "1                 0.980       514.500    294.000    110.250           7.000   \n",
       "2                 0.980       514.500    294.000    110.250           7.000   \n",
       "3                 0.980       514.500    294.000    110.250           7.000   \n",
       "4                 0.900       563.500    318.500    122.500           7.000   \n",
       "\n",
       "  Orientation  Glazing Area Glazing Area Distribution  Heating Load  \\\n",
       "0       north         0.000                      none        15.550   \n",
       "1        east         0.000                      none        15.550   \n",
       "2       south         0.000                      none        15.550   \n",
       "3        west         0.000                      none        15.550   \n",
       "4       north         0.000                      none        20.840   \n",
       "\n",
       "   Cooling Load  \n",
       "0        21.330  \n",
       "1        21.330  \n",
       "2        21.330  \n",
       "3        21.330  \n",
       "4        28.280  "
      ]
     },
     "execution_count": 1,
     "metadata": {},
     "output_type": "execute_result"
    }
   ],
   "source": [
    "import numpy as np\n",
    "import pandas as pd\n",
    "import matplotlib.pyplot as plt\n",
    "np.set_printoptions(precision=4, suppress=True)\n",
    "pd.set_option('display.float_format', lambda x: '%.3f' % x)\n",
    "%matplotlib inline\n",
    "\n",
    "buildings = pd.read_csv(\"ENBtable.csv\").dropna()\n",
    "\n",
    "RC, SA, WA, RA = \"Relative Compactness\", \"Surface Area\", \"Wall Area\", \"Roof Area\"\n",
    "OH, O, GA, GAD = \"Overall Height\", \"Orientation\", \"Glazing Area\", \"Glazing Area Distribution\"\n",
    "HL, CL = \"Heating Load\", \"Cooling Load\"\n",
    "\n",
    "features, labels = list(buildings)[:8], list(buildings)[8:]\n",
    "num_feats, cat_feats = features[:5]+[GA], [O, GAD]\n",
    "\n",
    "categories = ['none', 'uniform', 'north', 'east', 'south', 'west']\n",
    "converter = lambda k: categories[int(k)]\n",
    "buildings[cat_feats] = buildings[cat_feats].applymap(converter)\n",
    "buildings[O] = buildings[O].astype('category')\n",
    "buildings[GAD] = buildings[GAD].astype('category')\n",
    "\n",
    "buildings.head()"
   ]
  },
  {
   "cell_type": "markdown",
   "metadata": {},
   "source": [
    "Remember the last two columns make up the labels (they are the \"target\" variables) while the first eight columns are our building features.  Let's take a closer look at our dataset.\n",
    "\n",
    "## Analyze the Data"
   ]
  },
  {
   "cell_type": "code",
   "execution_count": 2,
   "metadata": {
    "collapsed": false
   },
   "outputs": [
    {
     "name": "stdout",
     "output_type": "stream",
     "text": [
      "<class 'pandas.core.frame.DataFrame'>\n",
      "Int64Index: 768 entries, 0 to 767\n",
      "Data columns (total 10 columns):\n",
      "Relative Compactness         768 non-null float64\n",
      "Surface Area                 768 non-null float64\n",
      "Wall Area                    768 non-null float64\n",
      "Roof Area                    768 non-null float64\n",
      "Overall Height               768 non-null float64\n",
      "Orientation                  768 non-null category\n",
      "Glazing Area                 768 non-null float64\n",
      "Glazing Area Distribution    768 non-null category\n",
      "Heating Load                 768 non-null float64\n",
      "Cooling Load                 768 non-null float64\n",
      "dtypes: category(2), float64(8)\n",
      "memory usage: 55.9 KB\n"
     ]
    }
   ],
   "source": [
    "buildings.info()"
   ]
  },
  {
   "cell_type": "code",
   "execution_count": 3,
   "metadata": {
    "collapsed": false
   },
   "outputs": [
    {
     "data": {
      "image/png": "[encoded data removed]",
      "text/plain": [
       "<matplotlib.figure.Figure at 0x10a6955c0>"
      ]
     },
     "metadata": {},
     "output_type": "display_data"
    }
   ],
   "source": [
    "buildings.hist(bins=12, figsize=(20,15))\n",
    "plt.show()"
   ]
  },
  {
   "cell_type": "code",
   "execution_count": 4,
   "metadata": {
    "collapsed": false
   },
   "outputs": [
    {
     "data": {
      "text/plain": [
       "Relative Compactness  Surface Area  Wall Area  Roof Area  Overall Height\n",
       "0.620                 808.500       367.500    220.500    3.500             64\n",
       "0.640                 784.000       343.000    220.500    3.500             64\n",
       "0.660                 759.500       318.500    220.500    3.500             64\n",
       "0.690                 735.000       294.000    220.500    3.500             64\n",
       "0.710                 710.500       269.500    220.500    3.500             64\n",
       "0.740                 686.000       245.000    220.500    3.500             64\n",
       "0.760                 661.500       416.500    122.500    7.000             64\n",
       "0.790                 637.000       343.000    147.000    7.000             64\n",
       "0.820                 612.500       318.500    147.000    7.000             64\n",
       "0.860                 588.000       294.000    147.000    7.000             64\n",
       "0.900                 563.500       318.500    122.500    7.000             64\n",
       "0.980                 514.500       294.000    110.250    7.000             64\n",
       "dtype: int64"
      ]
     },
     "execution_count": 4,
     "metadata": {},
     "output_type": "execute_result"
    }
   ],
   "source": [
    "buildings.groupby([RC, SA, WA, RA, OH]).size()"
   ]
  },
  {
   "cell_type": "markdown",
   "metadata": {},
   "source": [
    "Here we have grouped the dataset by the five features corresponding to the buildings shape; notice that there are 12 rows.  Each row gives the feature values corresponding to a given building shape.  For instance half the buildings are 3.5m tall and the other half are 7m tall.  For each building shape there are 64 possibilities for the remaining three features.  Therefore our dataset has 12x64=768 rows."
   ]
  },
  {
   "cell_type": "code",
   "execution_count": 5,
   "metadata": {
    "collapsed": false
   },
   "outputs": [
    {
     "data": {
      "image/png": "[encoded data removed]",
      "text/plain": [
       "<matplotlib.figure.Figure at 0x11436ca90>"
      ]
     },
     "metadata": {},
     "output_type": "display_data"
    }
   ],
   "source": [
    "plt.scatter(buildings[RC], buildings[SA])\n",
    "x = np.linspace(0.6, 1.0)\n",
    "plt.plot(x, 505/x)\n",
    "plt.show()"
   ]
  },
  {
   "cell_type": "markdown",
   "metadata": {},
   "source": [
    "The relative compactness of a building is a unitless quantity equal to 6V^(2/3)/SA, where V is the volume of the unit and SA is the surface area.  The volume of every building was made to be the same, so relative compactness and surface area are inversely proportional as the above graph demonstrates.  We will see that relative compactness is the most important feature for predicting the heating and cooling load."
   ]
  },
  {
   "cell_type": "code",
   "execution_count": 6,
   "metadata": {
    "collapsed": false
   },
   "outputs": [
    {
     "data": {
      "text/plain": [
       "Glazing Area  Glazing Area Distribution\n",
       "0.000         none                         48\n",
       "0.100         east                         48\n",
       "              north                        48\n",
       "              south                        48\n",
       "              uniform                      48\n",
       "              west                         48\n",
       "0.250         east                         48\n",
       "              north                        48\n",
       "              south                        48\n",
       "              uniform                      48\n",
       "              west                         48\n",
       "0.400         east                         48\n",
       "              north                        48\n",
       "              south                        48\n",
       "              uniform                      48\n",
       "              west                         48\n",
       "dtype: int64"
      ]
     },
     "execution_count": 6,
     "metadata": {},
     "output_type": "execute_result"
    }
   ],
   "source": [
    "buildings.groupby([GA, GAD]).size()"
   ]
  },
  {
   "cell_type": "markdown",
   "metadata": {},
   "source": [
    "The glazing area is given as a fraction of the floor area, and measures the amount of transparency of the enclosure.  The glazing area distribution indicates how windows tend to be oriented around the building.  This table shows the 16 different possible combinations of glazing area and glazing area distribution appear in this dataset."
   ]
  },
  {
   "cell_type": "code",
   "execution_count": 7,
   "metadata": {
    "collapsed": false
   },
   "outputs": [
    {
     "data": {
      "text/plain": [
       "Heating Load   10.090\n",
       "Cooling Load    9.513\n",
       "dtype: float64"
      ]
     },
     "execution_count": 7,
     "metadata": {},
     "output_type": "execute_result"
    }
   ],
   "source": [
    "buildings[[HL, CL]].std()"
   ]
  },
  {
   "cell_type": "markdown",
   "metadata": {},
   "source": [
    "This table shows the overall variance of our target variables."
   ]
  },
  {
   "cell_type": "code",
   "execution_count": 8,
   "metadata": {
    "collapsed": false
   },
   "outputs": [
    {
     "data": {
      "text/plain": [
       "Heating Load   10.058\n",
       "Cooling Load    9.607\n",
       "dtype: float64"
      ]
     },
     "execution_count": 8,
     "metadata": {},
     "output_type": "execute_result"
    }
   ],
   "source": [
    "(buildings[[O, GA, GAD, HL, CL]].groupby([O, GA, GAD]).std()).mean()"
   ]
  },
  {
   "cell_type": "markdown",
   "metadata": {},
   "source": [
    "This table shows the average variance of our target variables when orientation, glazing area, and glazing area distribution are known.  As you can see, the variance is still the same indicating these variables on their own give us little information on the target variables."
   ]
  },
  {
   "cell_type": "code",
   "execution_count": 9,
   "metadata": {
    "collapsed": false
   },
   "outputs": [
    {
     "data": {
      "text/plain": [
       "Heating Load   2.940\n",
       "Cooling Load   2.472\n",
       "dtype: float64"
      ]
     },
     "execution_count": 9,
     "metadata": {},
     "output_type": "execute_result"
    }
   ],
   "source": [
    "(buildings[[RC, HL, CL]].groupby(RC).std()).mean()"
   ]
  },
  {
   "cell_type": "markdown",
   "metadata": {},
   "source": [
    "On the other hand, relative compactness tells us a lot about the heating and cooling load.  As you can see, when relative compactness is known the variance goes down a bunch."
   ]
  },
  {
   "cell_type": "code",
   "execution_count": 10,
   "metadata": {
    "collapsed": false
   },
   "outputs": [
    {
     "data": {
      "image/png": "[encoded data removed]",
      "text/plain": [
       "<matplotlib.figure.Figure at 0x11a55c358>"
      ]
     },
     "metadata": {},
     "output_type": "display_data"
    }
   ],
   "source": [
    "f, axarr = plt.subplots(2, 3, sharey=True, figsize=(20,15))\n",
    "for i in range(6):\n",
    "    axarr[i//3, i%3].scatter(buildings[num_feats[i]], buildings[HL])\n",
    "    axarr[i//3, i%3].set_title(\"Heating Load vs \" + num_feats[i])\n",
    "plt.show()"
   ]
  },
  {
   "cell_type": "code",
   "execution_count": 11,
   "metadata": {
    "collapsed": false
   },
   "outputs": [
    {
     "data": {
      "image/png": "[encoded data removed]",
      "text/plain": [
       "<matplotlib.figure.Figure at 0x1199e5cf8>"
      ]
     },
     "metadata": {},
     "output_type": "display_data"
    }
   ],
   "source": [
    "f, axarr = plt.subplots(2, 3, sharey=True, figsize=(20,15))\n",
    "for i in range(6):\n",
    "    axarr[i//3, i%3].scatter(buildings[num_feats[i]], buildings[CL])\n",
    "    axarr[i//3, i%3].set_title(\"Cooling Load vs \" + num_feats[i])\n",
    "plt.show()"
   ]
  },
  {
   "cell_type": "code",
   "execution_count": 12,
   "metadata": {
    "collapsed": false
   },
   "outputs": [
    {
     "data": {
      "text/html": [
       "<div>\n",
       "<style>\n",
       "    .dataframe thead tr:only-child th {\n",
       "        text-align: right;\n",
       "    }\n",
       "\n",
       "    .dataframe thead th {\n",
       "        text-align: left;\n",
       "    }\n",
       "\n",
       "    .dataframe tbody tr th {\n",
       "        vertical-align: top;\n",
       "    }\n",
       "</style>\n",
       "<table border=\"1\" class=\"dataframe\">\n",
       "  <thead>\n",
       "    <tr style=\"text-align: right;\">\n",
       "      <th></th>\n",
       "      <th>Relative Compactness</th>\n",
       "      <th>Surface Area</th>\n",
       "      <th>Wall Area</th>\n",
       "      <th>Roof Area</th>\n",
       "      <th>Overall Height</th>\n",
       "      <th>Glazing Area</th>\n",
       "      <th>Heating Load</th>\n",
       "      <th>Cooling Load</th>\n",
       "    </tr>\n",
       "  </thead>\n",
       "  <tbody>\n",
       "    <tr>\n",
       "      <th>count</th>\n",
       "      <td>768.000</td>\n",
       "      <td>768.000</td>\n",
       "      <td>768.000</td>\n",
       "      <td>768.000</td>\n",
       "      <td>768.000</td>\n",
       "      <td>768.000</td>\n",
       "      <td>768.000</td>\n",
       "      <td>768.000</td>\n",
       "    </tr>\n",
       "    <tr>\n",
       "      <th>mean</th>\n",
       "      <td>0.764</td>\n",
       "      <td>671.708</td>\n",
       "      <td>318.500</td>\n",
       "      <td>176.604</td>\n",
       "      <td>5.250</td>\n",
       "      <td>0.234</td>\n",
       "      <td>22.307</td>\n",
       "      <td>24.588</td>\n",
       "    </tr>\n",
       "    <tr>\n",
       "      <th>std</th>\n",
       "      <td>0.106</td>\n",
       "      <td>88.086</td>\n",
       "      <td>43.626</td>\n",
       "      <td>45.166</td>\n",
       "      <td>1.751</td>\n",
       "      <td>0.133</td>\n",
       "      <td>10.090</td>\n",
       "      <td>9.513</td>\n",
       "    </tr>\n",
       "    <tr>\n",
       "      <th>min</th>\n",
       "      <td>0.620</td>\n",
       "      <td>514.500</td>\n",
       "      <td>245.000</td>\n",
       "      <td>110.250</td>\n",
       "      <td>3.500</td>\n",
       "      <td>0.000</td>\n",
       "      <td>6.010</td>\n",
       "      <td>10.900</td>\n",
       "    </tr>\n",
       "    <tr>\n",
       "      <th>25%</th>\n",
       "      <td>0.682</td>\n",
       "      <td>606.375</td>\n",
       "      <td>294.000</td>\n",
       "      <td>140.875</td>\n",
       "      <td>3.500</td>\n",
       "      <td>0.100</td>\n",
       "      <td>12.992</td>\n",
       "      <td>15.620</td>\n",
       "    </tr>\n",
       "    <tr>\n",
       "      <th>50%</th>\n",
       "      <td>0.750</td>\n",
       "      <td>673.750</td>\n",
       "      <td>318.500</td>\n",
       "      <td>183.750</td>\n",
       "      <td>5.250</td>\n",
       "      <td>0.250</td>\n",
       "      <td>18.950</td>\n",
       "      <td>22.080</td>\n",
       "    </tr>\n",
       "    <tr>\n",
       "      <th>75%</th>\n",
       "      <td>0.830</td>\n",
       "      <td>741.125</td>\n",
       "      <td>343.000</td>\n",
       "      <td>220.500</td>\n",
       "      <td>7.000</td>\n",
       "      <td>0.400</td>\n",
       "      <td>31.668</td>\n",
       "      <td>33.133</td>\n",
       "    </tr>\n",
       "    <tr>\n",
       "      <th>max</th>\n",
       "      <td>0.980</td>\n",
       "      <td>808.500</td>\n",
       "      <td>416.500</td>\n",
       "      <td>220.500</td>\n",
       "      <td>7.000</td>\n",
       "      <td>0.400</td>\n",
       "      <td>43.100</td>\n",
       "      <td>48.030</td>\n",
       "    </tr>\n",
       "  </tbody>\n",
       "</table>\n",
       "</div>"
      ],
      "text/plain": [
       "       Relative Compactness  Surface Area  Wall Area  Roof Area  \\\n",
       "count               768.000       768.000    768.000    768.000   \n",
       "mean                  0.764       671.708    318.500    176.604   \n",
       "std                   0.106        88.086     43.626     45.166   \n",
       "min                   0.620       514.500    245.000    110.250   \n",
       "25%                   0.682       606.375    294.000    140.875   \n",
       "50%                   0.750       673.750    318.500    183.750   \n",
       "75%                   0.830       741.125    343.000    220.500   \n",
       "max                   0.980       808.500    416.500    220.500   \n",
       "\n",
       "       Overall Height  Glazing Area  Heating Load  Cooling Load  \n",
       "count         768.000       768.000       768.000       768.000  \n",
       "mean            5.250         0.234        22.307        24.588  \n",
       "std             1.751         0.133        10.090         9.513  \n",
       "min             3.500         0.000         6.010        10.900  \n",
       "25%             3.500         0.100        12.992        15.620  \n",
       "50%             5.250         0.250        18.950        22.080  \n",
       "75%             7.000         0.400        31.668        33.133  \n",
       "max             7.000         0.400        43.100        48.030  "
      ]
     },
     "execution_count": 12,
     "metadata": {},
     "output_type": "execute_result"
    }
   ],
   "source": [
    "buildings.describe()"
   ]
  },
  {
   "cell_type": "markdown",
   "metadata": {},
   "source": [
    "This is just an overall description of the numeric variables.  Now that we've looked at the data, it's time to process it.\n",
    "\n",
    "## Process the Data"
   ]
  },
  {
   "cell_type": "code",
   "execution_count": 13,
   "metadata": {
    "collapsed": false
   },
   "outputs": [
    {
     "data": {
      "text/html": [
       "<div>\n",
       "<style>\n",
       "    .dataframe thead tr:only-child th {\n",
       "        text-align: right;\n",
       "    }\n",
       "\n",
       "    .dataframe thead th {\n",
       "        text-align: left;\n",
       "    }\n",
       "\n",
       "    .dataframe tbody tr th {\n",
       "        vertical-align: top;\n",
       "    }\n",
       "</style>\n",
       "<table border=\"1\" class=\"dataframe\">\n",
       "  <thead>\n",
       "    <tr style=\"text-align: right;\">\n",
       "      <th></th>\n",
       "      <th>Relative Compactness</th>\n",
       "      <th>Surface Area</th>\n",
       "      <th>Wall Area</th>\n",
       "      <th>Roof Area</th>\n",
       "      <th>Overall Height</th>\n",
       "      <th>Orientation</th>\n",
       "      <th>Glazing Area</th>\n",
       "      <th>Glazing Area Distribution</th>\n",
       "      <th>Heating Load</th>\n",
       "      <th>Cooling Load</th>\n",
       "    </tr>\n",
       "  </thead>\n",
       "  <tbody>\n",
       "    <tr>\n",
       "      <th>0</th>\n",
       "      <td>0.690</td>\n",
       "      <td>735.000</td>\n",
       "      <td>294.000</td>\n",
       "      <td>220.500</td>\n",
       "      <td>3.500</td>\n",
       "      <td>north</td>\n",
       "      <td>0.250</td>\n",
       "      <td>east</td>\n",
       "      <td>12.340</td>\n",
       "      <td>14.920</td>\n",
       "    </tr>\n",
       "    <tr>\n",
       "      <th>1</th>\n",
       "      <td>0.900</td>\n",
       "      <td>563.500</td>\n",
       "      <td>318.500</td>\n",
       "      <td>122.500</td>\n",
       "      <td>7.000</td>\n",
       "      <td>west</td>\n",
       "      <td>0.100</td>\n",
       "      <td>uniform</td>\n",
       "      <td>28.090</td>\n",
       "      <td>34.330</td>\n",
       "    </tr>\n",
       "    <tr>\n",
       "      <th>2</th>\n",
       "      <td>0.790</td>\n",
       "      <td>637.000</td>\n",
       "      <td>343.000</td>\n",
       "      <td>147.000</td>\n",
       "      <td>7.000</td>\n",
       "      <td>south</td>\n",
       "      <td>0.100</td>\n",
       "      <td>north</td>\n",
       "      <td>36.970</td>\n",
       "      <td>33.870</td>\n",
       "    </tr>\n",
       "    <tr>\n",
       "      <th>3</th>\n",
       "      <td>0.740</td>\n",
       "      <td>686.000</td>\n",
       "      <td>245.000</td>\n",
       "      <td>220.500</td>\n",
       "      <td>3.500</td>\n",
       "      <td>north</td>\n",
       "      <td>0.400</td>\n",
       "      <td>west</td>\n",
       "      <td>14.410</td>\n",
       "      <td>16.690</td>\n",
       "    </tr>\n",
       "    <tr>\n",
       "      <th>4</th>\n",
       "      <td>0.690</td>\n",
       "      <td>735.000</td>\n",
       "      <td>294.000</td>\n",
       "      <td>220.500</td>\n",
       "      <td>3.500</td>\n",
       "      <td>east</td>\n",
       "      <td>0.100</td>\n",
       "      <td>west</td>\n",
       "      <td>11.140</td>\n",
       "      <td>14.280</td>\n",
       "    </tr>\n",
       "  </tbody>\n",
       "</table>\n",
       "</div>"
      ],
      "text/plain": [
       "   Relative Compactness  Surface Area  Wall Area  Roof Area  Overall Height  \\\n",
       "0                 0.690       735.000    294.000    220.500           3.500   \n",
       "1                 0.900       563.500    318.500    122.500           7.000   \n",
       "2                 0.790       637.000    343.000    147.000           7.000   \n",
       "3                 0.740       686.000    245.000    220.500           3.500   \n",
       "4                 0.690       735.000    294.000    220.500           3.500   \n",
       "\n",
       "  Orientation  Glazing Area Glazing Area Distribution  Heating Load  \\\n",
       "0       north         0.250                      east        12.340   \n",
       "1        west         0.100                   uniform        28.090   \n",
       "2       south         0.100                     north        36.970   \n",
       "3       north         0.400                      west        14.410   \n",
       "4        east         0.100                      west        11.140   \n",
       "\n",
       "   Cooling Load  \n",
       "0        14.920  \n",
       "1        34.330  \n",
       "2        33.870  \n",
       "3        16.690  \n",
       "4        14.280  "
      ]
     },
     "execution_count": 13,
     "metadata": {},
     "output_type": "execute_result"
    }
   ],
   "source": [
    "from sklearn.model_selection import StratifiedShuffleSplit\n",
    "\n",
    "split = StratifiedShuffleSplit(n_splits=1, test_size=0.2, random_state=42)\n",
    "for train_index, test_index in split.split(buildings, buildings[RC]):\n",
    "    strat_train_set = buildings.loc[train_index]\n",
    "    strat_train_set.index = range(614)\n",
    "    strat_test_set = buildings.loc[test_index]\n",
    "strat_train_set.head()\n",
    "#for loop only has one loop because n_splits=1\n",
    "#len(train_index) = 614\n",
    "#len(test_index) = 154"
   ]
  },
  {
   "cell_type": "markdown",
   "metadata": {},
   "source": [
    "Here we have randomly split the data into a training set and a test set.  We did a stratified split to ensure that the distribution of relative compactness in the training and test sets matches the original distribution (since relative compactness is an important indicator, it's important that none of its possible values is under/over represented).\n",
    "\n",
    "We should not look at the test set until we've trained a few good models on the training set."
   ]
  },
  {
   "cell_type": "code",
   "execution_count": 14,
   "metadata": {
    "collapsed": false
   },
   "outputs": [
    {
     "data": {
      "text/html": [
       "<div>\n",
       "<style>\n",
       "    .dataframe thead tr:only-child th {\n",
       "        text-align: right;\n",
       "    }\n",
       "\n",
       "    .dataframe thead th {\n",
       "        text-align: left;\n",
       "    }\n",
       "\n",
       "    .dataframe tbody tr th {\n",
       "        vertical-align: top;\n",
       "    }\n",
       "</style>\n",
       "<table border=\"1\" class=\"dataframe\">\n",
       "  <thead>\n",
       "    <tr style=\"text-align: right;\">\n",
       "      <th></th>\n",
       "      <th>Relative Compactness</th>\n",
       "      <th>Surface Area</th>\n",
       "      <th>Wall Area</th>\n",
       "      <th>Roof Area</th>\n",
       "      <th>Overall Height</th>\n",
       "      <th>Orientation</th>\n",
       "      <th>Glazing Area</th>\n",
       "      <th>Glazing Area Distribution</th>\n",
       "    </tr>\n",
       "  </thead>\n",
       "  <tbody>\n",
       "    <tr>\n",
       "      <th>0</th>\n",
       "      <td>0.690</td>\n",
       "      <td>735.000</td>\n",
       "      <td>294.000</td>\n",
       "      <td>220.500</td>\n",
       "      <td>3.500</td>\n",
       "      <td>north</td>\n",
       "      <td>0.250</td>\n",
       "      <td>east</td>\n",
       "    </tr>\n",
       "    <tr>\n",
       "      <th>1</th>\n",
       "      <td>0.900</td>\n",
       "      <td>563.500</td>\n",
       "      <td>318.500</td>\n",
       "      <td>122.500</td>\n",
       "      <td>7.000</td>\n",
       "      <td>west</td>\n",
       "      <td>0.100</td>\n",
       "      <td>uniform</td>\n",
       "    </tr>\n",
       "    <tr>\n",
       "      <th>2</th>\n",
       "      <td>0.790</td>\n",
       "      <td>637.000</td>\n",
       "      <td>343.000</td>\n",
       "      <td>147.000</td>\n",
       "      <td>7.000</td>\n",
       "      <td>south</td>\n",
       "      <td>0.100</td>\n",
       "      <td>north</td>\n",
       "    </tr>\n",
       "    <tr>\n",
       "      <th>3</th>\n",
       "      <td>0.740</td>\n",
       "      <td>686.000</td>\n",
       "      <td>245.000</td>\n",
       "      <td>220.500</td>\n",
       "      <td>3.500</td>\n",
       "      <td>north</td>\n",
       "      <td>0.400</td>\n",
       "      <td>west</td>\n",
       "    </tr>\n",
       "    <tr>\n",
       "      <th>4</th>\n",
       "      <td>0.690</td>\n",
       "      <td>735.000</td>\n",
       "      <td>294.000</td>\n",
       "      <td>220.500</td>\n",
       "      <td>3.500</td>\n",
       "      <td>east</td>\n",
       "      <td>0.100</td>\n",
       "      <td>west</td>\n",
       "    </tr>\n",
       "  </tbody>\n",
       "</table>\n",
       "</div>"
      ],
      "text/plain": [
       "   Relative Compactness  Surface Area  Wall Area  Roof Area  Overall Height  \\\n",
       "0                 0.690       735.000    294.000    220.500           3.500   \n",
       "1                 0.900       563.500    318.500    122.500           7.000   \n",
       "2                 0.790       637.000    343.000    147.000           7.000   \n",
       "3                 0.740       686.000    245.000    220.500           3.500   \n",
       "4                 0.690       735.000    294.000    220.500           3.500   \n",
       "\n",
       "  Orientation  Glazing Area Glazing Area Distribution  \n",
       "0       north         0.250                      east  \n",
       "1        west         0.100                   uniform  \n",
       "2       south         0.100                     north  \n",
       "3       north         0.400                      west  \n",
       "4        east         0.100                      west  "
      ]
     },
     "execution_count": 14,
     "metadata": {},
     "output_type": "execute_result"
    }
   ],
   "source": [
    "buildings_feats, buildings_labels = strat_train_set[features], strat_train_set[labels]\n",
    "buildings_num, buildings_cat = buildings_feats[num_feats], buildings_feats[cat_feats]\n",
    "buildings_feats.head()"
   ]
  },
  {
   "cell_type": "markdown",
   "metadata": {},
   "source": [
    "This table consist of feature data for our training set."
   ]
  },
  {
   "cell_type": "code",
   "execution_count": 15,
   "metadata": {
    "collapsed": false
   },
   "outputs": [
    {
     "data": {
      "text/html": [
       "<div>\n",
       "<style>\n",
       "    .dataframe thead tr:only-child th {\n",
       "        text-align: right;\n",
       "    }\n",
       "\n",
       "    .dataframe thead th {\n",
       "        text-align: left;\n",
       "    }\n",
       "\n",
       "    .dataframe tbody tr th {\n",
       "        vertical-align: top;\n",
       "    }\n",
       "</style>\n",
       "<table border=\"1\" class=\"dataframe\">\n",
       "  <thead>\n",
       "    <tr style=\"text-align: right;\">\n",
       "      <th></th>\n",
       "      <th>Orientation</th>\n",
       "      <th>Glazing Area Distribution</th>\n",
       "    </tr>\n",
       "  </thead>\n",
       "  <tbody>\n",
       "    <tr>\n",
       "      <th>0</th>\n",
       "      <td>north</td>\n",
       "      <td>east</td>\n",
       "    </tr>\n",
       "    <tr>\n",
       "      <th>1</th>\n",
       "      <td>west</td>\n",
       "      <td>uniform</td>\n",
       "    </tr>\n",
       "    <tr>\n",
       "      <th>2</th>\n",
       "      <td>south</td>\n",
       "      <td>north</td>\n",
       "    </tr>\n",
       "    <tr>\n",
       "      <th>3</th>\n",
       "      <td>north</td>\n",
       "      <td>west</td>\n",
       "    </tr>\n",
       "    <tr>\n",
       "      <th>4</th>\n",
       "      <td>east</td>\n",
       "      <td>west</td>\n",
       "    </tr>\n",
       "    <tr>\n",
       "      <th>5</th>\n",
       "      <td>west</td>\n",
       "      <td>south</td>\n",
       "    </tr>\n",
       "    <tr>\n",
       "      <th>6</th>\n",
       "      <td>north</td>\n",
       "      <td>east</td>\n",
       "    </tr>\n",
       "    <tr>\n",
       "      <th>7</th>\n",
       "      <td>east</td>\n",
       "      <td>uniform</td>\n",
       "    </tr>\n",
       "    <tr>\n",
       "      <th>8</th>\n",
       "      <td>east</td>\n",
       "      <td>north</td>\n",
       "    </tr>\n",
       "    <tr>\n",
       "      <th>9</th>\n",
       "      <td>west</td>\n",
       "      <td>north</td>\n",
       "    </tr>\n",
       "    <tr>\n",
       "      <th>10</th>\n",
       "      <td>north</td>\n",
       "      <td>none</td>\n",
       "    </tr>\n",
       "  </tbody>\n",
       "</table>\n",
       "</div>"
      ],
      "text/plain": [
       "   Orientation Glazing Area Distribution\n",
       "0        north                      east\n",
       "1         west                   uniform\n",
       "2        south                     north\n",
       "3        north                      west\n",
       "4         east                      west\n",
       "5         west                     south\n",
       "6        north                      east\n",
       "7         east                   uniform\n",
       "8         east                     north\n",
       "9         west                     north\n",
       "10       north                      none"
      ]
     },
     "execution_count": 15,
     "metadata": {},
     "output_type": "execute_result"
    }
   ],
   "source": [
    "buildings_cat.head(11)"
   ]
  },
  {
   "cell_type": "markdown",
   "metadata": {},
   "source": [
    "A table consisting of the categorical features in our training data.  We're going to have to convert this into a series of zeroes and ones using Scikit-Learn's OneHotEncoder function.  First we have to convert the categories into integers."
   ]
  },
  {
   "cell_type": "code",
   "execution_count": 16,
   "metadata": {
    "collapsed": false
   },
   "outputs": [
    {
     "data": {
      "text/plain": [
       "array([[2, 3],\n",
       "       [5, 1],\n",
       "       [4, 2],\n",
       "       [2, 5],\n",
       "       [3, 5],\n",
       "       [5, 4],\n",
       "       [2, 3],\n",
       "       [3, 1],\n",
       "       [3, 2],\n",
       "       [5, 2],\n",
       "       [2, 0]])"
      ]
     },
     "execution_count": 16,
     "metadata": {},
     "output_type": "execute_result"
    }
   ],
   "source": [
    "reverter = lambda x: categories.index(x)\n",
    "buildings_cat_encoded = (np.vectorize(reverter))(buildings_cat.values)\n",
    "buildings_cat_encoded[:11]"
   ]
  },
  {
   "cell_type": "code",
   "execution_count": 17,
   "metadata": {
    "collapsed": false
   },
   "outputs": [
    {
     "data": {
      "text/plain": [
       "<614x12 sparse matrix of type '<class 'numpy.float64'>'\n",
       "\twith 1228 stored elements in Compressed Sparse Row format>"
      ]
     },
     "execution_count": 17,
     "metadata": {},
     "output_type": "execute_result"
    }
   ],
   "source": [
    "from sklearn.preprocessing import OneHotEncoder\n",
    "\n",
    "one_hot_encoder = OneHotEncoder(n_values=6)\n",
    "buildings_cat_1hot = one_hot_encoder.fit_transform(buildings_cat_encoded)\n",
    "buildings_cat_1hot"
   ]
  },
  {
   "cell_type": "code",
   "execution_count": 18,
   "metadata": {
    "collapsed": false
   },
   "outputs": [
    {
     "data": {
      "text/plain": [
       "array([[ 0.,  0.,  1.,  0.,  0.,  0.,  0.,  0.,  0.,  1.,  0.,  0.],\n",
       "       [ 0.,  0.,  0.,  0.,  0.,  1.,  0.,  1.,  0.,  0.,  0.,  0.],\n",
       "       [ 0.,  0.,  0.,  0.,  1.,  0.,  0.,  0.,  1.,  0.,  0.,  0.],\n",
       "       [ 0.,  0.,  1.,  0.,  0.,  0.,  0.,  0.,  0.,  0.,  0.,  1.],\n",
       "       [ 0.,  0.,  0.,  1.,  0.,  0.,  0.,  0.,  0.,  0.,  0.,  1.],\n",
       "       [ 0.,  0.,  0.,  0.,  0.,  1.,  0.,  0.,  0.,  0.,  1.,  0.],\n",
       "       [ 0.,  0.,  1.,  0.,  0.,  0.,  0.,  0.,  0.,  1.,  0.,  0.],\n",
       "       [ 0.,  0.,  0.,  1.,  0.,  0.,  0.,  1.,  0.,  0.,  0.,  0.],\n",
       "       [ 0.,  0.,  0.,  1.,  0.,  0.,  0.,  0.,  1.,  0.,  0.,  0.],\n",
       "       [ 0.,  0.,  0.,  0.,  0.,  1.,  0.,  0.,  1.,  0.,  0.,  0.],\n",
       "       [ 0.,  0.,  1.,  0.,  0.,  0.,  1.,  0.,  0.,  0.,  0.,  0.]])"
      ]
     },
     "execution_count": 18,
     "metadata": {},
     "output_type": "execute_result"
    }
   ],
   "source": [
    "(buildings_cat_1hot.toarray())[:11]"
   ]
  },
  {
   "cell_type": "markdown",
   "metadata": {},
   "source": [
    "Our table of categorical features has now been transformed into an array of zeros and ones.  Now we are going to make a pipeline which will perform all the necessary data processing steps at once.  This will be useful to have later when we have to apply the same transformations to the feature data in our test set."
   ]
  },
  {
   "cell_type": "code",
   "execution_count": 19,
   "metadata": {
    "collapsed": true
   },
   "outputs": [],
   "source": [
    "from sklearn.base import BaseEstimator, TransformerMixin\n",
    "\n",
    "class DataFrameSelector(BaseEstimator, TransformerMixin):\n",
    "    def __init__(self, attribute_names):\n",
    "        self.attribute_names = attribute_names\n",
    "    def fit(self, X, y=None):\n",
    "        return self\n",
    "    def transform(self, X):\n",
    "        return X[self.attribute_names].values"
   ]
  },
  {
   "cell_type": "markdown",
   "metadata": {},
   "source": [
    "This class can take a dataframe and select the values in a number of specified columns (the attribute names).  We will use this to split our feature data into numeric data and categorical data."
   ]
  },
  {
   "cell_type": "code",
   "execution_count": 20,
   "metadata": {
    "collapsed": false
   },
   "outputs": [],
   "source": [
    "class CatEncoder(BaseEstimator, TransformerMixin):\n",
    "    def __init__(self):\n",
    "        pass\n",
    "    def fit(self, X, y=None):\n",
    "        return self\n",
    "    def transform(self, X):\n",
    "        X = (np.vectorize(reverter))(X)\n",
    "        return (one_hot_encoder.fit_transform(X)).toarray()"
   ]
  },
  {
   "cell_type": "markdown",
   "metadata": {},
   "source": [
    "The categorical encoder.  It takes categorical data and transforms it into an array of zeroes and ones as we did above."
   ]
  },
  {
   "cell_type": "code",
   "execution_count": 21,
   "metadata": {
    "collapsed": false
   },
   "outputs": [],
   "source": [
    "from sklearn.pipeline import Pipeline\n",
    "from sklearn.preprocessing import StandardScaler\n",
    "\n",
    "num_pipeline = Pipeline([\n",
    "        ('selector', DataFrameSelector(num_feats)),\n",
    "        ('std_scaler', StandardScaler()),\n",
    "    ])\n",
    "\n",
    "cat_pipeline = Pipeline([\n",
    "        ('selector', DataFrameSelector(cat_feats)),\n",
    "        ('cat_encoder', CatEncoder()),\n",
    "    ])"
   ]
  },
  {
   "cell_type": "markdown",
   "metadata": {},
   "source": [
    "The numeric pipeline selects the numeric features and scales the values.  The categorical pipeline selects the categorical data and converts the categories into zeroes and ones."
   ]
  },
  {
   "cell_type": "code",
   "execution_count": 22,
   "metadata": {
    "collapsed": true
   },
   "outputs": [],
   "source": [
    "from sklearn.pipeline import FeatureUnion\n",
    "\n",
    "full_pipeline = FeatureUnion(transformer_list=[\n",
    "        (\"num_pipeline\", num_pipeline),\n",
    "        (\"cat_pipeline\", cat_pipeline),\n",
    "    ])"
   ]
  },
  {
   "cell_type": "markdown",
   "metadata": {},
   "source": [
    "This puts the two pipelines above together."
   ]
  },
  {
   "cell_type": "code",
   "execution_count": 23,
   "metadata": {
    "collapsed": false
   },
   "outputs": [
    {
     "data": {
      "text/plain": [
       "(614, 18)"
      ]
     },
     "execution_count": 23,
     "metadata": {},
     "output_type": "execute_result"
    }
   ],
   "source": [
    "buildings_prepared = full_pipeline.fit_transform(buildings_feats)\n",
    "buildings_prepared.shape"
   ]
  },
  {
   "cell_type": "code",
   "execution_count": 24,
   "metadata": {
    "collapsed": false
   },
   "outputs": [
    {
     "data": {
      "text/plain": [
       "array([[-0.7049,  0.7223, -0.5618,  0.9756, -1.0033,  0.1192],\n",
       "       [ 1.2809, -1.2253,  0.0009, -1.1958,  0.9967, -1.0184],\n",
       "       [ 0.2407, -0.3906,  0.5636, -0.6529,  0.9967, -1.0184],\n",
       "       [-0.2321,  0.1658, -1.6873,  0.9756, -1.0033,  1.2568],\n",
       "       [-0.7049,  0.7223, -0.5618,  0.9756, -1.0033, -1.0184],\n",
       "       [-0.043 , -0.1124,  2.2518, -1.1958,  0.9967,  0.1192],\n",
       "       [-0.043 , -0.1124,  2.2518, -1.1958,  0.9967,  0.1192],\n",
       "       [ 0.9027, -0.9471, -0.5618, -0.6529,  0.9967,  0.1192],\n",
       "       [-1.1777,  1.2788,  0.5636,  0.9756, -1.0033, -1.0184],\n",
       "       [ 1.2809, -1.2253,  0.0009, -1.1958,  0.9967,  0.1192]])"
      ]
     },
     "execution_count": 24,
     "metadata": {},
     "output_type": "execute_result"
    }
   ],
   "source": [
    "buildings_prepared[:10,:6]"
   ]
  },
  {
   "cell_type": "markdown",
   "metadata": {},
   "source": [
    "Our scaled numeric data."
   ]
  },
  {
   "cell_type": "code",
   "execution_count": 25,
   "metadata": {
    "collapsed": false
   },
   "outputs": [
    {
     "data": {
      "text/plain": [
       "array([[ 0.,  0.,  1.,  0.,  0.,  0.,  0.,  0.,  0.,  1.,  0.,  0.],\n",
       "       [ 0.,  0.,  0.,  0.,  0.,  1.,  0.,  1.,  0.,  0.,  0.,  0.],\n",
       "       [ 0.,  0.,  0.,  0.,  1.,  0.,  0.,  0.,  1.,  0.,  0.,  0.],\n",
       "       [ 0.,  0.,  1.,  0.,  0.,  0.,  0.,  0.,  0.,  0.,  0.,  1.],\n",
       "       [ 0.,  0.,  0.,  1.,  0.,  0.,  0.,  0.,  0.,  0.,  0.,  1.],\n",
       "       [ 0.,  0.,  0.,  0.,  0.,  1.,  0.,  0.,  0.,  0.,  1.,  0.],\n",
       "       [ 0.,  0.,  1.,  0.,  0.,  0.,  0.,  0.,  0.,  1.,  0.,  0.],\n",
       "       [ 0.,  0.,  0.,  1.,  0.,  0.,  0.,  1.,  0.,  0.,  0.,  0.],\n",
       "       [ 0.,  0.,  0.,  1.,  0.,  0.,  0.,  0.,  1.,  0.,  0.,  0.],\n",
       "       [ 0.,  0.,  0.,  0.,  0.,  1.,  0.,  0.,  1.,  0.,  0.,  0.]])"
      ]
     },
     "execution_count": 25,
     "metadata": {},
     "output_type": "execute_result"
    }
   ],
   "source": [
    "buildings_prepared[:10,6:]"
   ]
  },
  {
   "cell_type": "markdown",
   "metadata": {},
   "source": [
    "Our transformed categorical data."
   ]
  },
  {
   "cell_type": "markdown",
   "metadata": {},
   "source": [
    "## Training Models\n",
    "\n",
    "Now we are going to train a few models.  Here I will define an add_regressor function which will take as input a regressor (along with its name) and will train the regressor on the training data using cross validation.  Each regressor is trained to predict both the heating load and the cooling load, so two regressors are made in each application of the add_regressor function.  After training the regressors, add_regressor then stores both regressors in a dictionary for later use.  It also prints a score of both regressors and stores the scores in a score table which can be viewed later to compare different classifiers.\n",
    "\n",
    "Lastly, one can also pass add_regressor a series of values for the hyperparameters of the model (e.g. learning rate etc.).  add_regressor will use a grid search to find the parameters that work best."
   ]
  },
  {
   "cell_type": "code",
   "execution_count": 26,
   "metadata": {
    "collapsed": false
   },
   "outputs": [],
   "source": [
    "from sklearn.metrics import mean_squared_error\n",
    "from sklearn.model_selection import cross_val_score\n",
    "from sklearn.model_selection import GridSearchCV\n",
    "\n",
    "regressors = {HL: {}, CL: {}}\n",
    "columns = [\"Training RMSE\", \"Cross Validation RMSE\", \"Cross Validation SD\"]\n",
    "tables = {HL: pd.DataFrame(columns=columns), CL: pd.DataFrame(columns=columns)}\n",
    "\n",
    "def add_regressor(regressor, name, param_grid=None, data=buildings_prepared,\n",
    "              targets=buildings_labels):\n",
    "    for label in targets:\n",
    "        print(label)\n",
    "        target = targets[label]\n",
    "        if param_grid is None:\n",
    "            best_regressor = regressor\n",
    "        else:\n",
    "            grid_search = GridSearchCV(regressor, param_grid, cv=5,\n",
    "                                       scoring='neg_mean_squared_error')\n",
    "            grid_search.fit(data, target);\n",
    "            best_regressor = grid_search.best_estimator_\n",
    "        best_regressor.fit(data, target)\n",
    "        predictions = best_regressor.predict(data)\n",
    "        rmse = np.sqrt(mean_squared_error(target, predictions))\n",
    "        scores = cross_val_score(best_regressor, data, target,\n",
    "                         scoring=\"neg_mean_squared_error\", cv=10)\n",
    "        scores = np.sqrt(-scores)\n",
    "        regressors[target.name][name] = best_regressor\n",
    "        values = dict(zip(columns, [rmse, scores.mean(), scores.std()]))\n",
    "        row = pd.DataFrame(values, index=[name], columns=columns)\n",
    "        print(row)\n",
    "        table = tables[target.name].append(row)\n",
    "        tables[target.name] = table[~table.index.duplicated(keep='last')]"
   ]
  },
  {
   "cell_type": "code",
   "execution_count": 27,
   "metadata": {
    "collapsed": false
   },
   "outputs": [
    {
     "name": "stdout",
     "output_type": "stream",
     "text": [
      "Heating Load\n",
      "                   Training RMSE  Cross Validation RMSE  Cross Validation SD\n",
      "Linear Regression          2.760                  2.847                0.208\n",
      "Cooling Load\n",
      "                   Training RMSE  Cross Validation RMSE  Cross Validation SD\n",
      "Linear Regression          3.188                  3.271                0.267\n"
     ]
    }
   ],
   "source": [
    "from sklearn.linear_model import LinearRegression\n",
    "\n",
    "lin_reg = LinearRegression()\n",
    "add_regressor(lin_reg, \"Linear Regression\")"
   ]
  },
  {
   "cell_type": "markdown",
   "metadata": {},
   "source": [
    "The scores for using a simple linear regression model.  RMSE stands for \"root mean squared error\"."
   ]
  },
  {
   "cell_type": "code",
   "execution_count": 28,
   "metadata": {
    "collapsed": false
   },
   "outputs": [
    {
     "name": "stdout",
     "output_type": "stream",
     "text": [
      "Heating Load\n",
      "               Training RMSE  Cross Validation RMSE  Cross Validation SD\n",
      "Decision Tree          0.000                  0.635                0.076\n",
      "Cooling Load\n",
      "               Training RMSE  Cross Validation RMSE  Cross Validation SD\n",
      "Decision Tree          0.000                  2.513                0.267\n"
     ]
    }
   ],
   "source": [
    "from sklearn.tree import DecisionTreeRegressor\n",
    "\n",
    "tree_reg = DecisionTreeRegressor(random_state=42)\n",
    "add_regressor(tree_reg, \"Decision Tree\")"
   ]
  },
  {
   "cell_type": "markdown",
   "metadata": {},
   "source": [
    "Don't let the zero training error fool you.  That means this model might be overfitting the data.  Still, the cross validation errors are lower than the linear regression cv errors."
   ]
  },
  {
   "cell_type": "code",
   "execution_count": 29,
   "metadata": {
    "collapsed": false
   },
   "outputs": [
    {
     "name": "stdout",
     "output_type": "stream",
     "text": [
      "Heating Load\n",
      "                   Training RMSE  Cross Validation RMSE  Cross Validation SD\n",
      "Forest Regression          0.225                  0.607                0.064\n",
      "Cooling Load\n",
      "                   Training RMSE  Cross Validation RMSE  Cross Validation SD\n",
      "Forest Regression          0.003                  1.656                0.261\n"
     ]
    }
   ],
   "source": [
    "from sklearn.ensemble import RandomForestRegressor\n",
    "\n",
    "forest_reg = RandomForestRegressor(random_state=42)\n",
    "param_grid = [\n",
    "    # try 12 (3×4) combinations of hyperparameters\n",
    "    {'n_estimators': [3, 10, 30], 'max_features': [2, 4, 6, 8]},\n",
    "    # then try 6 (2×3) combinations with bootstrap set as False\n",
    "    {'bootstrap': [False], 'n_estimators': [3, 10], 'max_features': [2, 3, 4]},\n",
    "  ]\n",
    "add_regressor(forest_reg, \"Forest Regression\", param_grid)"
   ]
  },
  {
   "cell_type": "markdown",
   "metadata": {},
   "source": [
    "Those are some small errors!  Looks like this is a pretty good regressor.  Let's try some more models."
   ]
  },
  {
   "cell_type": "code",
   "execution_count": 30,
   "metadata": {
    "collapsed": false
   },
   "outputs": [
    {
     "name": "stdout",
     "output_type": "stream",
     "text": [
      "Heating Load\n",
      "       Training RMSE  Cross Validation RMSE  Cross Validation SD\n",
      "Lasso          2.805                  2.871                0.217\n",
      "Cooling Load\n",
      "       Training RMSE  Cross Validation RMSE  Cross Validation SD\n",
      "Lasso          3.229                  3.296                0.294\n"
     ]
    }
   ],
   "source": [
    "from sklearn.linear_model import Lasso\n",
    "\n",
    "lasso = Lasso()\n",
    "param_grid = {\"alpha\": [0.03, 0.1, 0.3, 1]}\n",
    "add_regressor(lasso, \"Lasso\", param_grid)"
   ]
  },
  {
   "cell_type": "code",
   "execution_count": 31,
   "metadata": {
    "collapsed": false
   },
   "outputs": [
    {
     "name": "stdout",
     "output_type": "stream",
     "text": [
      "Heating Load\n",
      "             Training RMSE  Cross Validation RMSE  Cross Validation SD\n",
      "Elastic Net          2.808                  2.874                0.232\n",
      "Cooling Load\n",
      "             Training RMSE  Cross Validation RMSE  Cross Validation SD\n",
      "Elastic Net          3.232                  3.298                0.308\n"
     ]
    }
   ],
   "source": [
    "from sklearn.linear_model import ElasticNet\n",
    "\n",
    "enet = ElasticNet()\n",
    "param_grid = {\"alpha\": [0.03, 0.1, 0.3, 1],\n",
    "              \"l1_ratio\": list(np.linspace(0.1,0.9,9))}\n",
    "add_regressor(enet, \"Elastic Net\", param_grid)"
   ]
  },
  {
   "cell_type": "code",
   "execution_count": 32,
   "metadata": {
    "collapsed": false
   },
   "outputs": [
    {
     "name": "stdout",
     "output_type": "stream",
     "text": [
      "Heating Load\n",
      "            Training RMSE  Cross Validation RMSE  Cross Validation SD\n",
      "Linear SVR          2.829                  2.899                0.287\n",
      "Cooling Load\n",
      "            Training RMSE  Cross Validation RMSE  Cross Validation SD\n",
      "Linear SVR          3.299                  3.408                0.367\n"
     ]
    }
   ],
   "source": [
    "from sklearn.svm import SVR\n",
    "\n",
    "svr_lin = SVR(kernel='linear')\n",
    "param_grid = {\"C\": [1e0, 1e1, 1e2], \"gamma\": np.logspace(-2,2,5)}\n",
    "add_regressor(svr_lin, \"Linear SVR\", param_grid)"
   ]
  },
  {
   "cell_type": "code",
   "execution_count": 33,
   "metadata": {
    "collapsed": false
   },
   "outputs": [
    {
     "name": "stdout",
     "output_type": "stream",
     "text": [
      "Heating Load\n",
      "         Training RMSE  Cross Validation RMSE  Cross Validation SD\n",
      "RBF SVR          1.147                  1.583                0.303\n",
      "Cooling Load\n",
      "         Training RMSE  Cross Validation RMSE  Cross Validation SD\n",
      "RBF SVR          1.373                  2.229                0.260\n"
     ]
    }
   ],
   "source": [
    "svr_rbf = SVR(kernel='rbf')\n",
    "param_grid = {\"C\": [1e0, 1e1, 1e2], \"gamma\": np.logspace(-2,2,5)}\n",
    "add_regressor(svr_rbf, \"RBF SVR\", param_grid)"
   ]
  },
  {
   "cell_type": "markdown",
   "metadata": {},
   "source": [
    "Now let's look at our tables to compare the errors for our regressors."
   ]
  },
  {
   "cell_type": "code",
   "execution_count": 34,
   "metadata": {
    "collapsed": false
   },
   "outputs": [
    {
     "data": {
      "text/html": [
       "<div>\n",
       "<style>\n",
       "    .dataframe thead tr:only-child th {\n",
       "        text-align: right;\n",
       "    }\n",
       "\n",
       "    .dataframe thead th {\n",
       "        text-align: left;\n",
       "    }\n",
       "\n",
       "    .dataframe tbody tr th {\n",
       "        vertical-align: top;\n",
       "    }\n",
       "</style>\n",
       "<table border=\"1\" class=\"dataframe\">\n",
       "  <thead>\n",
       "    <tr style=\"text-align: right;\">\n",
       "      <th></th>\n",
       "      <th>Training RMSE</th>\n",
       "      <th>Cross Validation RMSE</th>\n",
       "      <th>Cross Validation SD</th>\n",
       "    </tr>\n",
       "  </thead>\n",
       "  <tbody>\n",
       "    <tr>\n",
       "      <th>Linear Regression</th>\n",
       "      <td>2.760</td>\n",
       "      <td>2.847</td>\n",
       "      <td>0.208</td>\n",
       "    </tr>\n",
       "    <tr>\n",
       "      <th>Decision Tree</th>\n",
       "      <td>0.000</td>\n",
       "      <td>0.635</td>\n",
       "      <td>0.076</td>\n",
       "    </tr>\n",
       "    <tr>\n",
       "      <th>Forest Regression</th>\n",
       "      <td>0.225</td>\n",
       "      <td>0.607</td>\n",
       "      <td>0.064</td>\n",
       "    </tr>\n",
       "    <tr>\n",
       "      <th>Lasso</th>\n",
       "      <td>2.805</td>\n",
       "      <td>2.871</td>\n",
       "      <td>0.217</td>\n",
       "    </tr>\n",
       "    <tr>\n",
       "      <th>Elastic Net</th>\n",
       "      <td>2.808</td>\n",
       "      <td>2.874</td>\n",
       "      <td>0.232</td>\n",
       "    </tr>\n",
       "    <tr>\n",
       "      <th>Linear SVR</th>\n",
       "      <td>2.829</td>\n",
       "      <td>2.899</td>\n",
       "      <td>0.287</td>\n",
       "    </tr>\n",
       "    <tr>\n",
       "      <th>RBF SVR</th>\n",
       "      <td>1.147</td>\n",
       "      <td>1.583</td>\n",
       "      <td>0.303</td>\n",
       "    </tr>\n",
       "  </tbody>\n",
       "</table>\n",
       "</div>"
      ],
      "text/plain": [
       "                   Training RMSE  Cross Validation RMSE  Cross Validation SD\n",
       "Linear Regression          2.760                  2.847                0.208\n",
       "Decision Tree              0.000                  0.635                0.076\n",
       "Forest Regression          0.225                  0.607                0.064\n",
       "Lasso                      2.805                  2.871                0.217\n",
       "Elastic Net                2.808                  2.874                0.232\n",
       "Linear SVR                 2.829                  2.899                0.287\n",
       "RBF SVR                    1.147                  1.583                0.303"
      ]
     },
     "execution_count": 34,
     "metadata": {},
     "output_type": "execute_result"
    }
   ],
   "source": [
    "tables[HL]"
   ]
  },
  {
   "cell_type": "code",
   "execution_count": 35,
   "metadata": {
    "collapsed": false
   },
   "outputs": [
    {
     "data": {
      "text/html": [
       "<div>\n",
       "<style>\n",
       "    .dataframe thead tr:only-child th {\n",
       "        text-align: right;\n",
       "    }\n",
       "\n",
       "    .dataframe thead th {\n",
       "        text-align: left;\n",
       "    }\n",
       "\n",
       "    .dataframe tbody tr th {\n",
       "        vertical-align: top;\n",
       "    }\n",
       "</style>\n",
       "<table border=\"1\" class=\"dataframe\">\n",
       "  <thead>\n",
       "    <tr style=\"text-align: right;\">\n",
       "      <th></th>\n",
       "      <th>Training RMSE</th>\n",
       "      <th>Cross Validation RMSE</th>\n",
       "      <th>Cross Validation SD</th>\n",
       "    </tr>\n",
       "  </thead>\n",
       "  <tbody>\n",
       "    <tr>\n",
       "      <th>Linear Regression</th>\n",
       "      <td>3.188</td>\n",
       "      <td>3.271</td>\n",
       "      <td>0.267</td>\n",
       "    </tr>\n",
       "    <tr>\n",
       "      <th>Decision Tree</th>\n",
       "      <td>0.000</td>\n",
       "      <td>2.513</td>\n",
       "      <td>0.267</td>\n",
       "    </tr>\n",
       "    <tr>\n",
       "      <th>Forest Regression</th>\n",
       "      <td>0.003</td>\n",
       "      <td>1.656</td>\n",
       "      <td>0.261</td>\n",
       "    </tr>\n",
       "    <tr>\n",
       "      <th>Lasso</th>\n",
       "      <td>3.229</td>\n",
       "      <td>3.296</td>\n",
       "      <td>0.294</td>\n",
       "    </tr>\n",
       "    <tr>\n",
       "      <th>Elastic Net</th>\n",
       "      <td>3.232</td>\n",
       "      <td>3.298</td>\n",
       "      <td>0.308</td>\n",
       "    </tr>\n",
       "    <tr>\n",
       "      <th>Linear SVR</th>\n",
       "      <td>3.299</td>\n",
       "      <td>3.408</td>\n",
       "      <td>0.367</td>\n",
       "    </tr>\n",
       "    <tr>\n",
       "      <th>RBF SVR</th>\n",
       "      <td>1.373</td>\n",
       "      <td>2.229</td>\n",
       "      <td>0.260</td>\n",
       "    </tr>\n",
       "  </tbody>\n",
       "</table>\n",
       "</div>"
      ],
      "text/plain": [
       "                   Training RMSE  Cross Validation RMSE  Cross Validation SD\n",
       "Linear Regression          3.188                  3.271                0.267\n",
       "Decision Tree              0.000                  2.513                0.267\n",
       "Forest Regression          0.003                  1.656                0.261\n",
       "Lasso                      3.229                  3.296                0.294\n",
       "Elastic Net                3.232                  3.298                0.308\n",
       "Linear SVR                 3.299                  3.408                0.367\n",
       "RBF SVR                    1.373                  2.229                0.260"
      ]
     },
     "execution_count": 35,
     "metadata": {},
     "output_type": "execute_result"
    }
   ],
   "source": [
    "tables[CL]"
   ]
  },
  {
   "cell_type": "markdown",
   "metadata": {},
   "source": [
    "Here we want to compare the cross validation errors.  Looks like the forest regression is our best bet.  One thing we can see from these tables is that it's harder to predict the cooling load than the heating load."
   ]
  },
  {
   "cell_type": "code",
   "execution_count": 36,
   "metadata": {
    "collapsed": true
   },
   "outputs": [],
   "source": [
    "final_models = {label: regressors[label][\"Forest Regression\"] for label in labels}"
   ]
  },
  {
   "cell_type": "markdown",
   "metadata": {},
   "source": [
    "## Test the Model\n",
    "\n",
    "Now we can finally test out our regressor on the test data.  We'll just apply our pipeline from above to the test data to prepare it.  Then we can apply our trained forest regressor to the test features."
   ]
  },
  {
   "cell_type": "code",
   "execution_count": 37,
   "metadata": {
    "collapsed": false
   },
   "outputs": [
    {
     "name": "stdout",
     "output_type": "stream",
     "text": [
      "Heating Load RMSE: 0.516112223106\n",
      "Cooling Load RMSE: 1.3946597942\n"
     ]
    }
   ],
   "source": [
    "test_features = strat_test_set[features]\n",
    "test_labels = strat_test_set[labels]\n",
    "\n",
    "test_prepared = full_pipeline.transform(test_features)\n",
    "final_predictions = {label: final_models[label].predict(test_prepared) for label in labels}\n",
    "\n",
    "final_mse = {label: mean_squared_error(test_labels[label], final_predictions[label])\n",
    "            for label in labels}\n",
    "final_rmse = {label: np.sqrt(final_mse[label]) for label in labels}\n",
    "print(\"Heating Load RMSE:\", final_rmse[HL])\n",
    "print(\"Cooling Load RMSE:\", final_rmse[CL])"
   ]
  },
  {
   "cell_type": "markdown",
   "metadata": {},
   "source": [
    "Hey not bad!  These are our final scores.  Looks like our forest regressor was able to do a reasonably good job making predictions on the test data."
   ]
  },
  {
   "cell_type": "code",
   "execution_count": 38,
   "metadata": {
    "collapsed": false
   },
   "outputs": [],
   "source": [
    "HL_results = pd.DataFrame({\"Predictions\": final_predictions[HL], \"Actual\": test_labels[HL]})\n",
    "HL_results.index = range(154)\n",
    "CL_results = pd.DataFrame({\"Predictions\": final_predictions[CL], \"Actual\": test_labels[CL]})\n",
    "CL_results.index = range(154)"
   ]
  },
  {
   "cell_type": "code",
   "execution_count": 39,
   "metadata": {
    "collapsed": false
   },
   "outputs": [
    {
     "data": {
      "text/html": [
       "<div>\n",
       "<style>\n",
       "    .dataframe thead tr:only-child th {\n",
       "        text-align: right;\n",
       "    }\n",
       "\n",
       "    .dataframe thead th {\n",
       "        text-align: left;\n",
       "    }\n",
       "\n",
       "    .dataframe tbody tr th {\n",
       "        vertical-align: top;\n",
       "    }\n",
       "</style>\n",
       "<table border=\"1\" class=\"dataframe\">\n",
       "  <thead>\n",
       "    <tr style=\"text-align: right;\">\n",
       "      <th></th>\n",
       "      <th>Actual</th>\n",
       "      <th>Predictions</th>\n",
       "    </tr>\n",
       "  </thead>\n",
       "  <tbody>\n",
       "    <tr>\n",
       "      <th>0</th>\n",
       "      <td>10.070</td>\n",
       "      <td>10.161</td>\n",
       "    </tr>\n",
       "    <tr>\n",
       "      <th>1</th>\n",
       "      <td>19.420</td>\n",
       "      <td>19.087</td>\n",
       "    </tr>\n",
       "    <tr>\n",
       "      <th>2</th>\n",
       "      <td>10.360</td>\n",
       "      <td>10.449</td>\n",
       "    </tr>\n",
       "    <tr>\n",
       "      <th>3</th>\n",
       "      <td>41.090</td>\n",
       "      <td>41.109</td>\n",
       "    </tr>\n",
       "    <tr>\n",
       "      <th>4</th>\n",
       "      <td>14.580</td>\n",
       "      <td>14.476</td>\n",
       "    </tr>\n",
       "    <tr>\n",
       "      <th>5</th>\n",
       "      <td>7.180</td>\n",
       "      <td>7.279</td>\n",
       "    </tr>\n",
       "    <tr>\n",
       "      <th>6</th>\n",
       "      <td>32.670</td>\n",
       "      <td>32.272</td>\n",
       "    </tr>\n",
       "    <tr>\n",
       "      <th>7</th>\n",
       "      <td>28.640</td>\n",
       "      <td>28.620</td>\n",
       "    </tr>\n",
       "    <tr>\n",
       "      <th>8</th>\n",
       "      <td>40.030</td>\n",
       "      <td>39.059</td>\n",
       "    </tr>\n",
       "    <tr>\n",
       "      <th>9</th>\n",
       "      <td>12.820</td>\n",
       "      <td>12.966</td>\n",
       "    </tr>\n",
       "  </tbody>\n",
       "</table>\n",
       "</div>"
      ],
      "text/plain": [
       "   Actual  Predictions\n",
       "0  10.070       10.161\n",
       "1  19.420       19.087\n",
       "2  10.360       10.449\n",
       "3  41.090       41.109\n",
       "4  14.580       14.476\n",
       "5   7.180        7.279\n",
       "6  32.670       32.272\n",
       "7  28.640       28.620\n",
       "8  40.030       39.059\n",
       "9  12.820       12.966"
      ]
     },
     "execution_count": 39,
     "metadata": {},
     "output_type": "execute_result"
    }
   ],
   "source": [
    "HL_results.head(10)"
   ]
  },
  {
   "cell_type": "code",
   "execution_count": 40,
   "metadata": {
    "collapsed": false
   },
   "outputs": [
    {
     "data": {
      "text/html": [
       "<div>\n",
       "<style>\n",
       "    .dataframe thead tr:only-child th {\n",
       "        text-align: right;\n",
       "    }\n",
       "\n",
       "    .dataframe thead th {\n",
       "        text-align: left;\n",
       "    }\n",
       "\n",
       "    .dataframe tbody tr th {\n",
       "        vertical-align: top;\n",
       "    }\n",
       "</style>\n",
       "<table border=\"1\" class=\"dataframe\">\n",
       "  <thead>\n",
       "    <tr style=\"text-align: right;\">\n",
       "      <th></th>\n",
       "      <th>Actual</th>\n",
       "      <th>Predictions</th>\n",
       "    </tr>\n",
       "  </thead>\n",
       "  <tbody>\n",
       "    <tr>\n",
       "      <th>0</th>\n",
       "      <td>13.210</td>\n",
       "      <td>13.693</td>\n",
       "    </tr>\n",
       "    <tr>\n",
       "      <th>1</th>\n",
       "      <td>22.530</td>\n",
       "      <td>21.942</td>\n",
       "    </tr>\n",
       "    <tr>\n",
       "      <th>2</th>\n",
       "      <td>13.430</td>\n",
       "      <td>14.058</td>\n",
       "    </tr>\n",
       "    <tr>\n",
       "      <th>3</th>\n",
       "      <td>47.010</td>\n",
       "      <td>43.773</td>\n",
       "    </tr>\n",
       "    <tr>\n",
       "      <th>4</th>\n",
       "      <td>17.470</td>\n",
       "      <td>16.340</td>\n",
       "    </tr>\n",
       "    <tr>\n",
       "      <th>5</th>\n",
       "      <td>12.400</td>\n",
       "      <td>12.751</td>\n",
       "    </tr>\n",
       "    <tr>\n",
       "      <th>6</th>\n",
       "      <td>33.060</td>\n",
       "      <td>32.498</td>\n",
       "    </tr>\n",
       "    <tr>\n",
       "      <th>7</th>\n",
       "      <td>28.950</td>\n",
       "      <td>29.707</td>\n",
       "    </tr>\n",
       "    <tr>\n",
       "      <th>8</th>\n",
       "      <td>37.810</td>\n",
       "      <td>40.295</td>\n",
       "    </tr>\n",
       "    <tr>\n",
       "      <th>9</th>\n",
       "      <td>16.030</td>\n",
       "      <td>16.947</td>\n",
       "    </tr>\n",
       "  </tbody>\n",
       "</table>\n",
       "</div>"
      ],
      "text/plain": [
       "   Actual  Predictions\n",
       "0  13.210       13.693\n",
       "1  22.530       21.942\n",
       "2  13.430       14.058\n",
       "3  47.010       43.773\n",
       "4  17.470       16.340\n",
       "5  12.400       12.751\n",
       "6  33.060       32.498\n",
       "7  28.950       29.707\n",
       "8  37.810       40.295\n",
       "9  16.030       16.947"
      ]
     },
     "execution_count": 40,
     "metadata": {},
     "output_type": "execute_result"
    }
   ],
   "source": [
    "CL_results.head(10)"
   ]
  },
  {
   "cell_type": "markdown",
   "metadata": {},
   "source": [
    "Lastly these tables show the predicted heating and cooling load values as compared to the actual (simulated) values."
   ]
  }
 ],
 "metadata": {
  "kernelspec": {
   "display_name": "Python 3",
   "language": "python",
   "name": "python3"
  },
  "language_info": {
   "codemirror_mode": {
    "name": "ipython",
    "version": 3
   },
   "file_extension": ".py",
   "mimetype": "text/x-python",
   "name": "python",
   "nbconvert_exporter": "python",
   "pygments_lexer": "ipython3",
   "version": "3.5.4"
  }
 },
 "nbformat": 4,
 "nbformat_minor": 0
}
